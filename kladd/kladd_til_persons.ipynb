{
 "cells": [
  {
   "cell_type": "code",
   "execution_count": 20,
   "metadata": {},
   "outputs": [],
   "source": [
    "import tkinter as tk\n",
    "from tkinter import ttk\n",
    "\n",
    "root = tk.Tk()\n",
    "root.title(\"Information about person\")\n",
    "\n",
    "wanted_information = [\n",
    "    \"Age:\",\n",
    "    \"Gender:\",\n",
    "    \"Status:\",\n",
    "    \"Monthly income:\",\n",
    "    \"Monthly debt:\"\n",
    "]\n",
    "\n",
    "#----------------------------------------\n",
    "\n",
    "def comboclick(event):\n",
    "    myLabel = tk.Label(frame0, text=my_combo.get()).pack()\n",
    "    \n",
    "\n",
    "status = [\n",
    "    \"Student\",\n",
    "    \"Adult\",\n",
    "    \"Retired\"\n",
    "]\n",
    "\n",
    "frame0 = tk.Frame(master=root, relief=tk.RAISED, borderwidth=5)\n",
    "frame0.grid(row=0,column=0)\n",
    "\n",
    "clicked = tk.StringVar(0)\n",
    "clicked.set(status[0])\n",
    "\n",
    "\n",
    "my_combo = ttk.Combobox(frame0, value=status,)\n",
    "my_combo.current(0)\n",
    "my_combo.bind(\"<<ComboboxSelected>>\", comboclick)\n",
    "my_combo.pack()\n",
    "\n",
    "#---------------------------------------------------\n",
    "\n",
    "frame1 = tk.Frame(master=root, relief=tk.SUNKEN, borderwidth=5)\n",
    "frame1.grid(row=1,column=0)\n",
    "\n",
    "for index, info in enumerate(wanted_information):\n",
    "    frame1.rowconfigure(index, minsize=25)\n",
    "    frame1.columnconfigure([0,1], minsize=100)\n",
    "    \n",
    "    label = tk.Label(master=frame1, text=info)\n",
    "    label.grid(row=index, column=0, sticky=\"e\")\n",
    "    \n",
    "    entry = tk.Entry(master=frame1, width=50)\n",
    "    entry.grid(row=index, column=1, sticky=\"nsew\", pady=5)\n",
    "\n",
    "\n",
    "frame2 = tk.Frame(master=root, borderwidth=1)\n",
    "frame2.grid(row=2,column=0, sticky=\"nsew\")\n",
    "\n",
    "\n",
    "button1 = tk.Button(master=frame2, text=\"Submit\")\n",
    "button1.pack(side=tk.RIGHT, padx=5, pady=5)\n",
    "\n",
    "\n",
    "root.mainloop()\n",
    "\n"
   ]
  },
  {
   "cell_type": "code",
   "execution_count": 21,
   "metadata": {},
   "outputs": [],
   "source": [
    "wanted_information = {\n",
    "    \"Status\": [\"Student\", \"Family\", \"Retired\"],\n",
    "    \"Number of people in household\": 1,\n",
    "    \"Average monthly income\": 0,\n",
    "    \"Monthly debt payment\": 0\n",
    "}"
   ]
  },
  {
   "cell_type": "code",
   "execution_count": 40,
   "metadata": {},
   "outputs": [
    {
     "name": "stdout",
     "output_type": "stream",
     "text": [
      "Status\n",
      "Number of people in household\n",
      "Average monthly income\n",
      "Monthly debt payment\n"
     ]
    }
   ],
   "source": [
    "keys = wanted_information.keys()\n",
    "for key in keys:\n",
    "    print(key)"
   ]
  },
  {
   "cell_type": "code",
   "execution_count": 26,
   "metadata": {},
   "outputs": [
    {
     "name": "stdout",
     "output_type": "stream",
     "text": [
      "Status ['Student', 'Family', 'Retired']\n",
      "Number of people in household 1\n",
      "Average monthly income 0\n",
      "Monthly debt payment 0\n"
     ]
    }
   ],
   "source": [
    "for key in wanted_information:\n",
    "    print(key, wanted_information[key])"
   ]
  },
  {
   "cell_type": "code",
   "execution_count": 10,
   "metadata": {},
   "outputs": [],
   "source": [
    "import tkinter as tk\n",
    "from tkinter import ttk\n",
    "\n",
    "root = tk.Tk()\n",
    "root.title(\"Information about user\")\n",
    "\n",
    "wanted_information = {\n",
    "    \"Status:\": [\"Student\", \"Family\", \"Retired\"],\n",
    "    \"Nr. of people:\": 1,\n",
    "    \"Average monthly income:\": 0,\n",
    "    \"Monthly debt payment:\": 0\n",
    "}\n",
    "keys = []\n",
    "for key in wanted_information.keys():\n",
    "    keys.append(key)\n",
    "\n",
    "#------first question----------\n",
    "\n",
    "frame0 = tk.Frame(master=root, borderwidth=10)\n",
    "frame0.grid(row=0,column=0)\n",
    "\n",
    "frame0.rowconfigure(0, minsize=25)\n",
    "frame0.columnconfigure([0,1], minsize=100)\n",
    "\n",
    "label0 = tk.Label(master=frame0, text=f\"{keys[0]}\")\n",
    "label0.grid(row=0, column=0, sticky=\"e\")\n",
    "\n",
    "clicked = tk.StringVar(0)\n",
    "clicked.set(wanted_information[keys[0]])\n",
    "\n",
    "\n",
    "my_combo = ttk.Combobox(frame0, value=wanted_information[keys[0]])\n",
    "my_combo.current(0)\n",
    "my_combo.bind(\"<<ComboboxSelected>>\")\n",
    "my_combo.grid(row=0, column=1, sticky=\"w\")\n",
    "\n",
    "#-----second question-----------\n",
    "\n",
    "def increase():\n",
    "    value = int(label_members[\"text\"])\n",
    "    if value < 10:\n",
    "        label_members[\"text\"] = f\"{value + 1}\"\n",
    "\n",
    "def decrease():\n",
    "    value = int(label_members[\"text\"])\n",
    "    if value > 1:\n",
    "        label_members[\"text\"] = f\"{value - 1}\"\n",
    "    \n",
    "\n",
    "\n",
    "frame1 = tk.Frame(master=root, borderwidth=5, relief)\n",
    "frame1.grid(row=1,column=0)\n",
    "\n",
    "frame1.rowconfigure(0, minsize=25)\n",
    "frame1.columnconfigure([0,1,2], minsize=50)\n",
    "\n",
    "\n",
    "label1 = tk.Label(master=frame1, text=f\"{keys[1]}\")\n",
    "label1.grid(row=0, column=0, sticky=\"e\")\n",
    "\n",
    "label_members = tk.Label(master=frame1, text=f\"{wanted_information[keys[1]]}\")\n",
    "label_members.grid(row=0, column=1, sticky=\"w\")\n",
    "\n",
    "frame1_1 = tk.Frame(master=frame1)\n",
    "frame1_1.grid(row=0, column=2)\n",
    "\n",
    "frame1_1.rowconfigure([0,1], minsize=10)\n",
    "frame1_1.columnconfigure(0, minsize=30)\n",
    "\n",
    "pluss_button = tk.Button(master=frame1_1, text=\"+\", command=increase)\n",
    "pluss_button.grid(row=0,column=0, sticky=\"nsew\")\n",
    "\n",
    "minus_button = tk.Button(master=frame1_1, text=\"-\", command=decrease)\n",
    "minus_button.grid(row=1,column=0, sticky=\"nsew\")\n",
    "\n",
    "#--------third question----------\n",
    "\n",
    "\n",
    "\n",
    "root.mainloop()"
   ]
  },
  {
   "cell_type": "code",
   "execution_count": 44,
   "metadata": {},
   "outputs": [],
   "source": [
    "import tkinter as tk\n",
    "from tkinter import ttk\n",
    "\n",
    "root = tk.Tk()\n",
    "root.title(\"Information about user\")\n",
    "\n",
    "wanted_information = {\n",
    "    \"Status:\": [\"Student\", \"Family\", \"Retired\"],\n",
    "    \"Nr. of people:\": 1,\n",
    "    \"Average monthly income:\": 0,\n",
    "    \"Monthly debt payment:\": 0\n",
    "}\n",
    "\n",
    "frame0 = tk.Frame(master=root, borderwidth=5, relief=tk.SUNKEN)\n",
    "frame0.grid(row=0,column=0)\n",
    "\n",
    "keys = []\n",
    "for key in wanted_information.keys():\n",
    "    keys.append(key)\n",
    "\n",
    "for index, info in enumerate(wanted_information.keys()):\n",
    "    frame0.rowconfigure(index, minsize=25)\n",
    "    frame0.columnconfigure([0,1], minsize=100)\n",
    "    \n",
    "    label = tk.Label(master=frame0, text=info)\n",
    "    label.grid(row=index, column=0, sticky=\"e\", padx=10, pady=10)\n",
    "    \n",
    "    \n",
    "#----------first question---------------\n",
    "\n",
    "label0 = tk.Label(master=frame0, text=f\"{keys[0]}\")\n",
    "label0.grid(row=0, column=1, sticky=\"e\")\n",
    "\n",
    "clicked = tk.StringVar(0)\n",
    "clicked.set(wanted_information[keys[0]])\n",
    "\n",
    "\n",
    "my_combo = ttk.Combobox(frame0, value=wanted_information[keys[0]])\n",
    "my_combo.current(0)\n",
    "my_combo.bind(\"<<ComboboxSelected>>\")\n",
    "my_combo.grid(row=0, column=1, sticky=\"w\")\n",
    "\n",
    "\n",
    "#----------second question------------\n",
    "\n",
    "def increase():\n",
    "    value = int(label_members[\"text\"])\n",
    "    if value < 10:\n",
    "        label_members[\"text\"] = f\"{value + 1}\"\n",
    "\n",
    "def decrease():\n",
    "    value = int(label_members[\"text\"])\n",
    "    if value > 1:\n",
    "        label_members[\"text\"] = f\"{value - 1}\"\n",
    "    \n",
    "\n",
    "label_members = tk.Label(master=frame0, text=f\"{wanted_information[keys[1]]}\", bg=\"white\")\n",
    "label_members.grid(row=1, column=1, sticky=\"ew\")\n",
    "\n",
    "frame1 = tk.Frame(master=frame0)\n",
    "frame1.grid(row=1, column=2)\n",
    "\n",
    "frame1.rowconfigure([0,1], minsize=10)\n",
    "frame1.columnconfigure(0, minsize=30)\n",
    "\n",
    "pluss_button = tk.Button(master=frame1, text=\"+\", command=increase)\n",
    "pluss_button.grid(row=0,column=0, sticky=\"nsew\")\n",
    "\n",
    "minus_button = tk.Button(master=frame1, text=\"-\", command=decrease)\n",
    "minus_button.grid(row=1,column=0, sticky=\"nsew\")\n",
    "\n",
    "#---------third question-------------\n",
    "\n",
    "income_entry = tk.Entry(master=frame0, text=f\"{wanted_information[keys[2]]}\", \n",
    "                        cursor=\"arrow\", exportselection=0)\n",
    "income_entry.grid(row=2, column=1)\n",
    "\n",
    "\n",
    "#--------fourth question----------------\n",
    "\n",
    "income_entry = tk.Entry(master=frame0, text=f\"{wanted_information[keys[3]]}\", \n",
    "                        cursor=\"arrow\", exportselection=0)\n",
    "income_entry.grid(row=3, column=1)\n",
    "\n",
    "\n",
    "#---------------calculation buttons---------------\n",
    "\n",
    "calc_frame = tk.Frame(master=root, borderwidth=5)\n",
    "calc_frame.grid(row=1,column=0)\n",
    "\n",
    "calc_button = tk.Button(master=calc_frame, text=\"Calculate budget\", relief=tk.RAISED, borderwidth=5)\n",
    "calc_button.pack()\n",
    "\n",
    "\n",
    "\n",
    "root.mainloop()"
   ]
  },
  {
   "cell_type": "code",
   "execution_count": 75,
   "metadata": {},
   "outputs": [],
   "source": [
    "from typing import Union\n",
    "\n",
    "class Person:\n",
    "    budget_setup = {\n",
    "        \"Food/drinks\": 0,\n",
    "        \"Clothing\": 0,\n",
    "        \"Travell\": 0,\n",
    "        \"Payments\": 0,\n",
    "        \"Buffer account\": 0,\n",
    "        \"Freetime\": 0\n",
    "    }\n",
    "    \n",
    "    def __init__(self, nr_people: int, \n",
    "                 avrg_income: Union[str, float], \n",
    "                 monthly_debt: Union[str, float], \n",
    "                 status_constant: Union[str, float]) -> None:\n",
    "        self.nr_people = nr_people\n",
    "        self.avrg_income = avrg_income\n",
    "        self.monthly_debt = monthly_debt\n",
    "        self.status_constant = status_constant\n",
    "        \n",
    "    def calculate_budget(self) -> None:\n",
    "        self.budget_setup[\"Clothing\"] = self.nr_people * self.status_constant\n",
    "    \n",
    "    def check_if_beyond_salary(self) -> bool:\n",
    "        amount = 0\n",
    "        for key in self.budget_setup:\n",
    "            amount += self.budget_setup[key]\n",
    "            \n",
    "        return amount <= self.avrg_income\n",
    "        "
   ]
  },
  {
   "cell_type": "code",
   "execution_count": 76,
   "metadata": {},
   "outputs": [],
   "source": [
    "me = Person(2, 123, 321, 1.5)"
   ]
  },
  {
   "cell_type": "code",
   "execution_count": 77,
   "metadata": {},
   "outputs": [],
   "source": [
    "me.calculate_budget()"
   ]
  },
  {
   "cell_type": "code",
   "execution_count": 78,
   "metadata": {},
   "outputs": [
    {
     "data": {
      "text/plain": [
       "{'Food/drinks': 0,\n",
       " 'Clothing': 3.0,\n",
       " 'Travell': 0,\n",
       " 'Payments': 0,\n",
       " 'Buffer account': 0,\n",
       " 'Freetime': 0}"
      ]
     },
     "execution_count": 78,
     "metadata": {},
     "output_type": "execute_result"
    }
   ],
   "source": [
    "me.budget_setup"
   ]
  },
  {
   "cell_type": "code",
   "execution_count": 79,
   "metadata": {},
   "outputs": [
    {
     "data": {
      "text/plain": [
       "True"
      ]
     },
     "execution_count": 79,
     "metadata": {},
     "output_type": "execute_result"
    }
   ],
   "source": [
    "me.check_if_beyond_salary()"
   ]
  },
  {
   "cell_type": "code",
   "execution_count": 80,
   "metadata": {},
   "outputs": [
    {
     "name": "stdout",
     "output_type": "stream",
     "text": [
      "0\n",
      "0\n",
      "0\n",
      "0\n",
      "0\n",
      "0\n"
     ]
    }
   ],
   "source": [
    "budget_setup = {\n",
    "        \"Food/drinks\": 0,\n",
    "        \"Clothing\": 0,\n",
    "        \"Travell\": 0,\n",
    "        \"Payments\": 0,\n",
    "        \"Buffer account\": 0,\n",
    "        \"Freetime\": 0\n",
    "    }\n",
    "\n",
    "for item in budget_setup:\n",
    "    print(budget_setup[item])"
   ]
  },
  {
   "cell_type": "code",
   "execution_count": 81,
   "metadata": {},
   "outputs": [],
   "source": [
    "me.budget_setup[\"Travell\"] = 10"
   ]
  },
  {
   "cell_type": "code",
   "execution_count": 82,
   "metadata": {},
   "outputs": [
    {
     "data": {
      "text/plain": [
       "{'Food/drinks': 0,\n",
       " 'Clothing': 3.0,\n",
       " 'Travell': 10,\n",
       " 'Payments': 0,\n",
       " 'Buffer account': 0,\n",
       " 'Freetime': 0}"
      ]
     },
     "execution_count": 82,
     "metadata": {},
     "output_type": "execute_result"
    }
   ],
   "source": [
    "me.budget_setup"
   ]
  },
  {
   "cell_type": "code",
   "execution_count": null,
   "metadata": {},
   "outputs": [],
   "source": []
  }
 ],
 "metadata": {
  "kernelspec": {
   "display_name": "Python 3",
   "language": "python",
   "name": "python3"
  },
  "language_info": {
   "codemirror_mode": {
    "name": "ipython",
    "version": 3
   },
   "file_extension": ".py",
   "mimetype": "text/x-python",
   "name": "python",
   "nbconvert_exporter": "python",
   "pygments_lexer": "ipython3",
   "version": "3.8.5"
  }
 },
 "nbformat": 4,
 "nbformat_minor": 4
}
