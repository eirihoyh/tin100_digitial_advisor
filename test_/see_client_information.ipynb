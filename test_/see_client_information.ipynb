{
 "cells": [
  {
   "cell_type": "markdown",
   "metadata": {},
   "source": [
    "#### CREDIT TO CREATORS OF https://github.com/Njord-Technologies/get_started_with_psd2 TO MAKE AN EASY WAY TO READ INFORMATION ABOUT CLIENTS IN DNB'S API"
   ]
  },
  {
   "cell_type": "code",
   "execution_count": 37,
   "metadata": {},
   "outputs": [],
   "source": [
    "from DNB_psd2 import AISP"
   ]
  },
  {
   "cell_type": "code",
   "execution_count": 59,
   "metadata": {},
   "outputs": [],
   "source": [
    "AISP_client = AISP(PSU_ID = \"TB76688\", pem_path = \"../../certificate/certificate.pem\",\n",
    "                    key_path =  \"../../certificate/private.key\", \n",
    "                    webdriver_path=\"../../chromedriver_win32/chromedriver.exe\")"
   ]
  },
  {
   "cell_type": "code",
   "execution_count": 60,
   "metadata": {},
   "outputs": [],
   "source": [
    "accounts = AISP_client.accounts()"
   ]
  },
  {
   "cell_type": "code",
   "execution_count": 61,
   "metadata": {},
   "outputs": [],
   "source": [
    "first_account = AISP_client.get_account_info(bban = f\"{accounts[0]}\")"
   ]
  },
  {
   "cell_type": "code",
   "execution_count": 62,
   "metadata": {},
   "outputs": [
    {
     "data": {
      "text/plain": [
       "{'iban': 'NO5412035864022',\n",
       " 'bban': '12035864022',\n",
       " 'currency': 'NOK',\n",
       " 'name': 'BRUKSKONTO',\n",
       " '_links': {'balances': {'href': '/v1/accounts/12035864022/balances'},\n",
       "  'transactions': {'href': '/v1/accounts/12035864022/transactions'}},\n",
       " 'ownerName': 'Moe, Randi'}"
      ]
     },
     "execution_count": 62,
     "metadata": {},
     "output_type": "execute_result"
    }
   ],
   "source": [
    "first_account"
   ]
  },
  {
   "cell_type": "code",
   "execution_count": 72,
   "metadata": {},
   "outputs": [
    {
     "name": "stdout",
     "output_type": "stream",
     "text": [
      "Account number 12035864022 gives balance:\n",
      "{'account': {'bban': '12035864022', 'currency': 'NOK'}, 'balances': [{'balanceAmount': {'currency': 'NOK', 'amount': '887413.60'}, 'balanceType': 'openingBooked'}, {'balanceAmount': {'currency': 'NOK', 'amount': '887413.60'}, 'balanceType': 'authorised'}, {'balanceAmount': {'currency': 'NOK', 'amount': '887413.60'}, 'balanceType': 'expected'}]}\n",
      "\n",
      "Account number 12071094411 gives balance:\n",
      "{'account': {'bban': '12071094411', 'currency': 'NOK'}, 'balances': [{'balanceAmount': {'currency': 'NOK', 'amount': '529075.39'}, 'balanceType': 'openingBooked'}, {'balanceAmount': {'currency': 'NOK', 'amount': '529075.39'}, 'balanceType': 'authorised'}, {'balanceAmount': {'currency': 'NOK', 'amount': '529075.39'}, 'balanceType': 'expected'}]}\n",
      "\n",
      "Account number 12091874154 gives balance:\n",
      "{'account': {'bban': '12091874154', 'currency': 'NOK'}, 'balances': [{'balanceAmount': {'currency': 'NOK', 'amount': '345580.40'}, 'balanceType': 'openingBooked'}, {'balanceAmount': {'currency': 'NOK', 'amount': '345580.40'}, 'balanceType': 'authorised'}, {'balanceAmount': {'currency': 'NOK', 'amount': '345580.40'}, 'balanceType': 'expected'}]}\n",
      "\n",
      "Account number 12095221031 gives balance:\n",
      "{'account': {'bban': '12095221031', 'currency': 'NOK'}, 'balances': [{'balanceAmount': {'currency': 'NOK', 'amount': '169799.40'}, 'balanceType': 'openingBooked'}, {'balanceAmount': {'currency': 'NOK', 'amount': '169799.40'}, 'balanceType': 'authorised'}, {'balanceAmount': {'currency': 'NOK', 'amount': '169799.40'}, 'balanceType': 'expected'}]}\n",
      "\n"
     ]
    }
   ],
   "source": [
    "for i in accounts:\n",
    "    balance = AISP_client.get_account_balance(bban = f\"{i}\")\n",
    "    print(f\"Account number {i} gives balance:\\n{balance}\\n\")"
   ]
  },
  {
   "cell_type": "code",
   "execution_count": 74,
   "metadata": {},
   "outputs": [
    {
     "name": "stdout",
     "output_type": "stream",
     "text": [
      "Account number 12035864022 have transaction history:\n",
      "{'account': {'bban': '12035864022'}, 'transactions': {'booked': [{'transactionId': '71558087048', 'bookingDate': '2020-02-07', 'valueDate': '2020-02-07', 'dnbTransactionDateTime': '2020-02-07T11:51:28', 'dnbTransactionType': 'Renter', 'transactionAmount': {'currency': 'NOK', 'amount': '73'}, 'additionalInformation': 'Renter'}, {'transactionId': '73343865261', 'bookingDate': '2020-02-07', 'valueDate': '2020-02-07', 'dnbTransactionDateTime': '2020-02-07T11:51:28', 'dnbTransactionType': 'Renter', 'transactionAmount': {'currency': 'NOK', 'amount': '11'}, 'additionalInformation': 'Renter'}, {'transactionId': '79273660118', 'bookingDate': '2020-02-07', 'valueDate': '2020-02-07', 'dnbTransactionDateTime': '2020-02-07T11:51:28', 'dnbTransactionType': 'Renter', 'transactionAmount': {'currency': 'NOK', 'amount': '9'}, 'additionalInformation': 'Renter'}, {'transactionId': '85125702980', 'bookingDate': '2020-02-07', 'valueDate': '2020-02-07', 'dnbTransactionDateTime': '2020-02-07T11:51:28', 'dnbTransactionType': 'Renter', 'transactionAmount': {'currency': 'NOK', 'amount': '34'}, 'additionalInformation': 'Renter'}], 'pending': []}}\n",
      "\n",
      "Account number 12071094411 have transaction history:\n",
      "{'account': {'bban': '12071094411'}, 'transactions': {'booked': [{'transactionId': '32432771215', 'bookingDate': '2020-02-07', 'valueDate': '2020-02-07', 'dnbTransactionDateTime': '2020-02-07T11:51:28', 'dnbTransactionType': 'Renter', 'transactionAmount': {'currency': 'NOK', 'amount': '86'}, 'additionalInformation': 'Renter'}], 'pending': []}}\n",
      "\n",
      "Account number 12091874154 have transaction history:\n",
      "{'account': {'bban': '12091874154'}, 'transactions': {'booked': [{'transactionId': '17484980494', 'bookingDate': '2020-02-07', 'valueDate': '2020-02-07', 'dnbTransactionDateTime': '2020-02-07T11:51:28', 'dnbTransactionType': 'Renter', 'transactionAmount': {'currency': 'NOK', 'amount': '59'}, 'additionalInformation': 'Renter'}, {'transactionId': '29167376521', 'bookingDate': '2020-02-07', 'valueDate': '2020-02-07', 'dnbTransactionDateTime': '2020-02-07T11:51:28', 'dnbTransactionType': 'Renter', 'transactionAmount': {'currency': 'NOK', 'amount': '31'}, 'additionalInformation': 'Renter'}, {'transactionId': '50751881354', 'bookingDate': '2020-02-07', 'valueDate': '2020-02-07', 'dnbTransactionDateTime': '2020-02-07T11:51:28', 'dnbTransactionType': 'Renter', 'transactionAmount': {'currency': 'NOK', 'amount': '24'}, 'additionalInformation': 'Renter'}, {'transactionId': '58346139685', 'bookingDate': '2020-02-07', 'valueDate': '2020-02-07', 'dnbTransactionDateTime': '2020-02-07T11:51:28', 'dnbTransactionType': 'Renter', 'transactionAmount': {'currency': 'NOK', 'amount': '18'}, 'additionalInformation': 'Renter'}], 'pending': []}}\n",
      "\n",
      "Account number 12095221031 have transaction history:\n",
      "{'account': {'bban': '12095221031'}, 'transactions': {'booked': [{'transactionId': '20044191062', 'bookingDate': '2020-02-07', 'valueDate': '2020-02-07', 'dnbTransactionDateTime': '2020-02-07T11:51:28', 'dnbTransactionType': 'Renter', 'transactionAmount': {'currency': 'NOK', 'amount': '17'}, 'additionalInformation': 'Renter'}, {'transactionId': '24449932941', 'bookingDate': '2020-02-07', 'valueDate': '2020-02-07', 'dnbTransactionDateTime': '2020-02-07T11:51:28', 'dnbTransactionType': 'Renter', 'transactionAmount': {'currency': 'NOK', 'amount': '60'}, 'additionalInformation': 'Renter'}, {'transactionId': '84819831186', 'bookingDate': '2020-02-07', 'valueDate': '2020-02-07', 'dnbTransactionDateTime': '2020-02-07T11:51:28', 'dnbTransactionType': 'Renter', 'transactionAmount': {'currency': 'NOK', 'amount': '33'}, 'additionalInformation': 'Renter'}, {'transactionId': '95302197136', 'bookingDate': '2020-02-07', 'valueDate': '2020-02-07', 'dnbTransactionDateTime': '2020-02-07T11:51:28', 'dnbTransactionType': 'Renter', 'transactionAmount': {'currency': 'NOK', 'amount': '42'}, 'additionalInformation': 'Renter'}], 'pending': []}}\n",
      "\n"
     ]
    }
   ],
   "source": [
    "for i in accounts:\n",
    "    transactions = AISP_client.get_bank_transactions(bban = f\"{i}\")\n",
    "    print(f\"Account number {i} have transaction history:\\n{transactions}\\n\")"
   ]
  },
  {
   "cell_type": "code",
   "execution_count": 76,
   "metadata": {},
   "outputs": [
    {
     "name": "stdout",
     "output_type": "stream",
     "text": [
      "client does not have cards\n"
     ]
    }
   ],
   "source": [
    "try:\n",
    "    cards = AISP_client.get_card()\n",
    "except:\n",
    "    print(\"client does not have cards\")"
   ]
  },
  {
   "cell_type": "code",
   "execution_count": 77,
   "metadata": {},
   "outputs": [
    {
     "data": {
      "text/plain": [
       "'{\"tppMessages\":[{\"category\":\"ERROR\",\"code\":1,\"path\":\"/v1/card-accounts/12035864022/transactions\",\"text\":\"An error occurred while processing your request. Please contact DNB for more information.\"}]}'"
      ]
     },
     "execution_count": 77,
     "metadata": {},
     "output_type": "execute_result"
    }
   ],
   "source": [
    "AISP_client.get_card_transactions(bban = f\"{accounts[0]}\")"
   ]
  },
  {
   "cell_type": "code",
   "execution_count": null,
   "metadata": {},
   "outputs": [],
   "source": []
  }
 ],
 "metadata": {
  "kernelspec": {
   "display_name": "Python 3",
   "language": "python",
   "name": "python3"
  },
  "language_info": {
   "codemirror_mode": {
    "name": "ipython",
    "version": 3
   },
   "file_extension": ".py",
   "mimetype": "text/x-python",
   "name": "python",
   "nbconvert_exporter": "python",
   "pygments_lexer": "ipython3",
   "version": "3.8.5"
  }
 },
 "nbformat": 4,
 "nbformat_minor": 4
}
