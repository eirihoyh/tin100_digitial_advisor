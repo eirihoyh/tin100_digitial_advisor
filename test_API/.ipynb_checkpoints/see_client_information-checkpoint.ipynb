{
 "cells": [
  {
   "cell_type": "markdown",
   "metadata": {},
   "source": [
    "#### CREDIT TO CREATORS OF https://github.com/Njord-Technologies/get_started_with_psd2 TO MAKE AN EASY WAY TO READ INFORMATION ABOUT CLIENTS IN DNB'S API"
   ]
  },
  {
   "cell_type": "code",
   "execution_count": 1,
   "metadata": {},
   "outputs": [],
   "source": [
    "from DNB_psd2 import AISP"
   ]
  },
  {
   "cell_type": "code",
   "execution_count": 2,
   "metadata": {},
   "outputs": [],
   "source": [
    "AISP_client = AISP(PSU_ID = \"31125458052\", pem_path = \"../../certificate/certificate.pem\",\n",
    "                    key_path =  \"../../certificate/private.key\", \n",
    "                    webdriver_path=\"../../chromedriver_win32/chromedriver.exe\")"
   ]
  },
  {
   "cell_type": "code",
   "execution_count": 3,
   "metadata": {},
   "outputs": [],
   "source": [
    "accounts = AISP_client.accounts()"
   ]
  },
  {
   "cell_type": "code",
   "execution_count": 4,
   "metadata": {},
   "outputs": [],
   "source": [
    "first_account = AISP_client.get_account_info(bban = f\"{accounts[0]}\")"
   ]
  },
  {
   "cell_type": "code",
   "execution_count": 5,
   "metadata": {},
   "outputs": [
    {
     "data": {
      "text/plain": [
       "{'iban': 'NO1212007818295',\n",
       " 'bban': '12007818295',\n",
       " 'currency': 'NOK',\n",
       " 'name': 'Brukskonto',\n",
       " '_links': {'balances': {'href': '/v1/accounts/12007818295/balances'},\n",
       "  'transactions': {'href': '/v1/accounts/12007818295/transactions'}},\n",
       " 'ownerName': 'Thomson'}"
      ]
     },
     "execution_count": 5,
     "metadata": {},
     "output_type": "execute_result"
    }
   ],
   "source": [
    "first_account"
   ]
  },
  {
   "cell_type": "code",
   "execution_count": 6,
   "metadata": {},
   "outputs": [
    {
     "name": "stdout",
     "output_type": "stream",
     "text": [
      "Account number 12007818295 gives balance:\n",
      "{'account': {'bban': '12007818295', 'currency': 'NOK'}, 'balances': [{'balanceAmount': {'currency': 'NOK', 'amount': '6004.00'}, 'balanceType': 'openingBooked'}, {'balanceAmount': {'currency': 'NOK', 'amount': '6004.00'}, 'balanceType': 'authorised'}, {'balanceAmount': {'currency': 'NOK', 'amount': '6004.00'}, 'balanceType': 'expected'}]}\n",
      "\n",
      "Account number 12067644032 gives balance:\n",
      "{'account': {'bban': '12067644032', 'currency': 'NOK'}, 'balances': [{'balanceAmount': {'currency': 'NOK', 'amount': '29658.00'}, 'balanceType': 'openingBooked'}, {'balanceAmount': {'currency': 'NOK', 'amount': '29658.00'}, 'balanceType': 'authorised'}, {'balanceAmount': {'currency': 'NOK', 'amount': '29658.00'}, 'balanceType': 'expected'}]}\n",
      "\n"
     ]
    }
   ],
   "source": [
    "for i in accounts:\n",
    "    balance = AISP_client.get_account_balance(bban = f\"{i}\")\n",
    "    print(f\"Account number {i} gives balance:\\n{balance}\\n\")"
   ]
  },
  {
   "cell_type": "code",
   "execution_count": 7,
   "metadata": {},
   "outputs": [
    {
     "name": "stdout",
     "output_type": "stream",
     "text": [
      "Account number 12007818295 have transaction history:\n",
      "{'account': {'bban': '12007818295'}, 'transactions': {'booked': [{'transactionId': '16060032124', 'bookingDate': '2020-02-07', 'valueDate': '2020-02-07', 'dnbTransactionDateTime': '2020-02-07T11:51:28', 'dnbTransactionType': 'Renter', 'transactionAmount': {'currency': 'NOK', 'amount': '90'}, 'additionalInformation': 'Renter'}, {'transactionId': '64238210354', 'bookingDate': '2020-02-07', 'valueDate': '2020-02-07', 'dnbTransactionDateTime': '2020-02-07T11:51:28', 'dnbTransactionType': 'Renter', 'transactionAmount': {'currency': 'NOK', 'amount': '29'}, 'additionalInformation': 'Renter'}, {'transactionId': '64743317194', 'bookingDate': '2020-02-07', 'valueDate': '2020-02-07', 'dnbTransactionDateTime': '2020-02-07T11:51:28', 'dnbTransactionType': 'Renter', 'transactionAmount': {'currency': 'NOK', 'amount': '39'}, 'additionalInformation': 'Renter'}, {'transactionId': '71680368638', 'bookingDate': '2020-02-07', 'valueDate': '2020-02-07', 'dnbTransactionDateTime': '2020-02-07T11:51:28', 'dnbTransactionType': 'Renter', 'transactionAmount': {'currency': 'NOK', 'amount': '49'}, 'additionalInformation': 'Renter'}, {'transactionId': '77713694733', 'bookingDate': '2020-02-07', 'valueDate': '2020-02-07', 'dnbTransactionDateTime': '2020-02-07T11:51:28', 'dnbTransactionType': 'Renter', 'transactionAmount': {'currency': 'NOK', 'amount': '47'}, 'additionalInformation': 'Renter'}], 'pending': []}}\n",
      "\n",
      "Account number 12067644032 have transaction history:\n",
      "{'account': {'bban': '12067644032'}, 'transactions': {'booked': [{'transactionId': '26240375451', 'bookingDate': '2020-02-07', 'valueDate': '2020-02-07', 'dnbTransactionDateTime': '2020-02-07T11:51:28', 'dnbTransactionType': 'Renter', 'transactionAmount': {'currency': 'NOK', 'amount': '69'}, 'additionalInformation': 'Renter'}, {'transactionId': '43887265645', 'bookingDate': '2020-02-07', 'valueDate': '2020-02-07', 'dnbTransactionDateTime': '2020-02-07T11:51:28', 'dnbTransactionType': 'Renter', 'transactionAmount': {'currency': 'NOK', 'amount': '73'}, 'additionalInformation': 'Renter'}, {'transactionId': '49103867028', 'bookingDate': '2020-02-07', 'valueDate': '2020-02-07', 'dnbTransactionDateTime': '2020-02-07T11:51:28', 'dnbTransactionType': 'Renter', 'transactionAmount': {'currency': 'NOK', 'amount': '4'}, 'additionalInformation': 'Renter'}, {'transactionId': '54802587722', 'bookingDate': '2020-02-07', 'valueDate': '2020-02-07', 'dnbTransactionDateTime': '2020-02-07T11:51:28', 'dnbTransactionType': 'Renter', 'transactionAmount': {'currency': 'NOK', 'amount': '91'}, 'additionalInformation': 'Renter'}, {'transactionId': '90394617876', 'bookingDate': '2020-02-07', 'valueDate': '2020-02-07', 'dnbTransactionDateTime': '2020-02-07T11:51:28', 'dnbTransactionType': 'Renter', 'transactionAmount': {'currency': 'NOK', 'amount': '18'}, 'additionalInformation': 'Renter'}], 'pending': []}}\n",
      "\n"
     ]
    }
   ],
   "source": [
    "for i in accounts:\n",
    "    transactions = AISP_client.get_bank_transactions(bban = f\"{i}\")\n",
    "    print(f\"Account number {i} have transaction history:\\n{transactions}\\n\")"
   ]
  },
  {
   "cell_type": "code",
   "execution_count": 8,
   "metadata": {},
   "outputs": [],
   "source": [
    "try:\n",
    "    cards = AISP_client.get_card()\n",
    "except:\n",
    "    print(\"client does not have cards\")"
   ]
  },
  {
   "cell_type": "code",
   "execution_count": 9,
   "metadata": {},
   "outputs": [
    {
     "data": {
      "text/plain": [
       "'{\"cardAccount\":{\"bban\":\"12007818295\"},\"cardTransactions\":{},\"_links\":{\"self\":\"/v1/card-accounts/12007818295/transactions\"}}'"
      ]
     },
     "execution_count": 9,
     "metadata": {},
     "output_type": "execute_result"
    }
   ],
   "source": [
    "AISP_client.get_card_transactions(bban = f\"{accounts[0]}\")"
   ]
  },
  {
   "cell_type": "code",
   "execution_count": null,
   "metadata": {},
   "outputs": [],
   "source": []
  }
 ],
 "metadata": {
  "kernelspec": {
   "display_name": "Python 3",
   "language": "python",
   "name": "python3"
  },
  "language_info": {
   "codemirror_mode": {
    "name": "ipython",
    "version": 3
   },
   "file_extension": ".py",
   "mimetype": "text/x-python",
   "name": "python",
   "nbconvert_exporter": "python",
   "pygments_lexer": "ipython3",
   "version": "3.8.5"
  }
 },
 "nbformat": 4,
 "nbformat_minor": 4
}
