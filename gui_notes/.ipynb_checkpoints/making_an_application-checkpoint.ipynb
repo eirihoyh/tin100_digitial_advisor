{
 "cells": [
  {
   "cell_type": "markdown",
   "metadata": {},
   "source": [
    "## Using .bind for keypress- and button interaction"
   ]
  },
  {
   "cell_type": "code",
   "execution_count": 1,
   "metadata": {},
   "outputs": [
    {
     "name": "stdout",
     "output_type": "stream",
     "text": [
      "The button was clicked!\n",
      "The button was clicked!\n",
      "The button was clicked!\n",
      "s\n",
      "d\n",
      "s\n"
     ]
    }
   ],
   "source": [
    "import tkinter as tk\n",
    "\n",
    "root = tk.Tk()\n",
    "\n",
    "def handle_keypress(event):\n",
    "    print(event.char)\n",
    "    \n",
    "def handle_click(event):\n",
    "    print(\"The button was clicked!\")\n",
    "    \n",
    "root.bind(\"<Key>\", handle_keypress)\n",
    "\n",
    "button = tk.Button(text=\"Click me!\")\n",
    "button.pack()\n",
    "\n",
    "button.bind(\"<Button-1>\", handle_click)\n",
    "    \n",
    "root.mainloop()"
   ]
  },
  {
   "cell_type": "markdown",
   "metadata": {},
   "source": [
    "#### Easy counter using .bind"
   ]
  },
  {
   "cell_type": "code",
   "execution_count": 6,
   "metadata": {},
   "outputs": [],
   "source": [
    "root = tk.Tk()\n",
    "\n",
    "def increase():\n",
    "    value = int(lbl_value[\"text\"])\n",
    "    lbl_value[\"text\"] = f\"{value + 1}\"\n",
    "    \n",
    "def decrease():\n",
    "    value = int(lbl_value[\"text\"])\n",
    "    lbl_value[\"text\"] = f\"{value - 1}\"\n",
    "\n",
    "root.rowconfigure(0, minsize=50, weight=1)\n",
    "root.columnconfigure([0,1,2], minsize=50, weight=1)\n",
    "\n",
    "minus_button = tk.Button(master=root, text=\"-\", command=decrease)\n",
    "minus_button.grid(row=0, column=0, sticky=\"nsew\")\n",
    "\n",
    "\n",
    "lbl_value = tk.Label(master=root, text=\"0\")\n",
    "lbl_value.grid(row=0, column=1)\n",
    "\n",
    "pluss_button = tk.Button(master=root, text=\"+\", command=increase)\n",
    "pluss_button.grid(row=0, column=2, sticky=\"nsew\")\n",
    "\n",
    "root.mainloop()"
   ]
  },
  {
   "cell_type": "markdown",
   "metadata": {},
   "source": [
    "## Random dice"
   ]
  },
  {
   "cell_type": "code",
   "execution_count": 24,
   "metadata": {},
   "outputs": [],
   "source": [
    "import random\n",
    "import tkinter as tk\n",
    "\n",
    "root = tk.Tk()\n",
    "\n",
    "def roll():\n",
    "    my_roll = random.randint(1,6)\n",
    "    lable[\"text\"] = f\"{my_roll}\"\n",
    "\n",
    "root.rowconfigure([0, 1], minsize=50)\n",
    "root.columnconfigure(0, minsize=150)\n",
    "\n",
    "button = tk.Button(master=root, text=\"Roll!\", relief=tk.RAISED, borderwidth=5, command=roll)\n",
    "button.grid(row=0, column=0, sticky=\"nsew\")\n",
    "\n",
    "lable = tk.Label(master=root, text=\"Push Roll!\", relief=tk.SUNKEN, borderwidth=5)\n",
    "lable.grid(row=1, column=0, sticky=\"nsew\")\n",
    "\n",
    "root.mainloop()"
   ]
  },
  {
   "cell_type": "markdown",
   "metadata": {},
   "source": [
    "## Temperatur converter"
   ]
  },
  {
   "cell_type": "code",
   "execution_count": 39,
   "metadata": {},
   "outputs": [],
   "source": [
    "import tkinter as tk\n",
    "\n",
    "root = tk.Tk()\n",
    "root.title(\"Temperature Converter\")\n",
    "\n",
    "def convert():\n",
    "    try:\n",
    "        fahrenheit = enter_tmp.get()\n",
    "        celsius = (5/9)*(float(fahrenheit)-32)\n",
    "        lbl_res[\"text\"] = f\"{round(celsius, 2)} \\N{DEGREE CELSIUS}\"\n",
    "    except:\n",
    "        lbl_res[\"text\"] = \"Must be a number!\"\n",
    "        \n",
    "        \n",
    "frame = tk.Frame(master=root)\n",
    "enter_tmp = tk.Entry(master=frame, width=10)\n",
    "lbl_tmp = tk.Label(master=frame, text=\"\\N{DEGREE FAHRENHEIT}\")\n",
    "\n",
    "button = tk.Button(master=root, text=\"\\N{RIGHTWARDS BLACK ARROW}\", command=convert)\n",
    "lbl_res = tk.Label(master=root, text=\"\\N{DEGREE CELSIUS}\")\n",
    "\n",
    "frame.grid(row=0, column=0, padx=10)\n",
    "enter_tmp.grid(row=0, column=0, sticky=\"e\")\n",
    "lbl_tmp.grid(row=0, column=1, sticky=\"w\")\n",
    "button.grid(row=0, column=1, pady=10)\n",
    "lbl_res.grid(row=0, column=2, padx=10)\n",
    "\n",
    "root.mainloop()"
   ]
  },
  {
   "cell_type": "markdown",
   "metadata": {},
   "source": []
  }
 ],
 "metadata": {
  "kernelspec": {
   "display_name": "Python 3",
   "language": "python",
   "name": "python3"
  },
  "language_info": {
   "codemirror_mode": {
    "name": "ipython",
    "version": 3
   },
   "file_extension": ".py",
   "mimetype": "text/x-python",
   "name": "python",
   "nbconvert_exporter": "python",
   "pygments_lexer": "ipython3",
   "version": "3.8.5"
  }
 },
 "nbformat": 4,
 "nbformat_minor": 4
}
