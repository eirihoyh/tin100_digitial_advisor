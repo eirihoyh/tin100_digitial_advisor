{
 "cells": [
  {
   "cell_type": "markdown",
   "metadata": {},
   "source": [
    "## What I have learned from reading the first part of https://realpython.com/python-gui-tkinter/\n",
    "\n",
    "#### An assignment to see if I have understood the basic principles"
   ]
  },
  {
   "cell_type": "code",
   "execution_count": 1,
   "metadata": {},
   "outputs": [],
   "source": [
    "import tkinter as tk\n",
    "\n",
    "root = tk.Tk()\n",
    "\n",
    "root.title(\"Adress Entry Form\")\n",
    "\n",
    "root.rowconfigure([0, 1], minsize=50)\n",
    "root.columnconfigure(0, minsize=100)\n",
    "\n",
    "wanted_information = [\n",
    "    \"First Name:\",\n",
    "    \"Last Name:\",\n",
    "    \"Adress Line 1:\",\n",
    "    \"Adress Line 2:\",\n",
    "    \"City:\",\n",
    "    \"State/Province:\",\n",
    "    \"Postal Code:\",\n",
    "    \"Country:\"\n",
    "]\n",
    "\n",
    "frame1 = tk.Frame(master=root, relief=tk.SUNKEN, borderwidth=5)\n",
    "frame1.grid(row=0,column=0)\n",
    "\n",
    "for index, info in enumerate(wanted_information):\n",
    "    frame1.rowconfigure(index, minsize=25)\n",
    "    frame1.columnconfigure([0,1], minsize=100)\n",
    "    \n",
    "    label = tk.Label(master=frame1, text=info)\n",
    "    label.grid(row=index, column=0, sticky=\"e\")\n",
    "    \n",
    "    entry = tk.Entry(master=frame1, width=50)\n",
    "    entry.grid(row=index, column=1, sticky=\"nsew\")\n",
    "\n",
    "\n",
    "frame2 = tk.Frame(master=root, borderwidth=1)\n",
    "frame2.grid(row=1,column=0, sticky=\"nsew\")\n",
    "\n",
    "\n",
    "button1 = tk.Button(master=frame2, text=\"Submit\")\n",
    "button1.pack(side=tk.RIGHT, padx=5, pady=5)\n",
    "\n",
    "button2 = tk.Button(master=frame2, text=\"Clear\")\n",
    "button2.pack(side=tk.RIGHT, padx=5, pady=5)\n",
    "\n",
    "root.mainloop()"
   ]
  },
  {
   "cell_type": "code",
   "execution_count": null,
   "metadata": {},
   "outputs": [],
   "source": []
  }
 ],
 "metadata": {
  "kernelspec": {
   "display_name": "Python 3",
   "language": "python",
   "name": "python3"
  },
  "language_info": {
   "codemirror_mode": {
    "name": "ipython",
    "version": 3
   },
   "file_extension": ".py",
   "mimetype": "text/x-python",
   "name": "python",
   "nbconvert_exporter": "python",
   "pygments_lexer": "ipython3",
   "version": "3.8.5"
  }
 },
 "nbformat": 4,
 "nbformat_minor": 4
}
